{
 "cells": [
  {
   "cell_type": "markdown",
   "metadata": {},
   "source": [
    "## Introduction\n",
    "-----\n",
    "\n",
    "In this assignment you will recursively estimate the position of a vehicle along a trajectory using available measurements and a motion model. \n",
    "\n",
    "The vehicle is equipped with a very simple type of LIDAR sensor, which returns range and bearing measurements corresponding to individual landmarks in the environment. The global positions of the landmarks are assumed to be known beforehand. We will also assume known data association, that is, which measurment belong to which landmark.\n",
    "\n",
    "## Motion and Measurement Models\n",
    "-----\n",
    "\n",
    "### Motion Model\n",
    "\n",
    "The vehicle motion model recieves linear and angular velocity odometry readings as inputs, and outputs the state (i.e., the 2D pose) of the vehicle:\n",
    "\n",
    "\\begin{align}\n",
    "\\mathbf{x}_{k} &= \\mathbf{x}_{k-1} + T\n",
    "\\begin{bmatrix}\n",
    "\\cos\\theta_{k-1} &0 \\\\\n",
    "\\sin\\theta_{k-1} &0 \\\\\n",
    "0 &1\n",
    "\\end{bmatrix}\n",
    "\\left(\n",
    "\\begin{bmatrix}\n",
    "v_k \\\\\n",
    "\\omega_k\n",
    "\\end{bmatrix}\n",
    "+ \\mathbf{w}_k\n",
    "\\right)\n",
    "\\, , \\, \\, \\, \\, \\, \\mathbf{w}_k = \\mathcal{N}\\left(\\mathbf{0}, \\mathbf{Q}\\right)\n",
    "\\end{align}\n",
    "\n",
    "- $\\mathbf{x}_k = \\left[ x \\, y \\, \\theta \\right]^T$ is the current 2D pose of the vehicle\n",
    "- $v_k$ and $\\omega_k$ are the linear and angular velocity odometry readings, which we use as inputs to the model\n",
    "\n",
    "The process noise $\\mathbf{w}_k$ has a (zero mean) normal distribution with a constant covariance $\\mathbf{Q}$.\n",
    "\n",
    "### Measurement Model\n",
    "\n",
    "The measurement model relates the current pose of the vehicle to the LIDAR range and bearing measurements $\\mathbf{y}^l_k = \\left[r \\, \\phi \\right]^T$.\n",
    "\n",
    "\\begin{align}\n",
    "\\mathbf{y}^l_k =\n",
    "\\begin{bmatrix}\n",
    "\\sqrt{(x_l - x_k - d\\cos\\theta_{k})^2 + (y_l - y_k - d\\sin\\theta_{k})^2} \\\\\n",
    "atan2\\left(y_l - y_k - d\\sin\\theta_{k},x_l - x_k - d\\cos\\theta_{k}\\right) - \\theta_k\n",
    "\\end{bmatrix}\n",
    "+\n",
    "\\mathbf{n}^l_k\n",
    "\\, , \\, \\, \\, \\, \\, \\mathbf{n}^l_k = \\mathcal{N}\\left(\\mathbf{0}, \\mathbf{R}\\right)\n",
    "\\end{align}\n",
    "\n",
    "- $x_l$ and $y_l$ are the ground truth coordinates of the landmark $l$\n",
    "- $x_k$ and $y_k$ and $\\theta_{k}$ represent the current pose of the vehicle\n",
    "- $d$ is the known distance between robot center and laser rangefinder (LIDAR)\n",
    "\n",
    "The landmark measurement noise $\\mathbf{n}^l_k$ has a (zero mean) normal distribution with a constant covariance $\\mathbf{R}$.\n",
    "\n",
    "## Getting Started\n",
    "-----\n",
    "\n",
    "Since the models above are nonlinear, we recommend using the extended Kalman filter (EKF) as the state estimator.\n",
    "Specifically, you will need to provide code implementing the following steps:\n",
    "- the prediction step, which uses odometry measurements and the motion model to produce a state and covariance estimate at a given timestep, and\n",
    "- the correction step, which uses the range and bearing measurements provided by the LIDAR to correct the pose and pose covariance estimates\n",
    "\n",
    "### Unpack the Data\n",
    "First, let's unpack the available data:"
   ]
  },
  {
   "cell_type": "code",
   "execution_count": 1,
   "metadata": {},
   "outputs": [],
   "source": [
    "import pickle\n",
    "import numpy as np\n",
    "import matplotlib.pyplot as plt\n",
    "import scipy\n",
    "from numpy.linalg import inv\n",
    "\n",
    "with open('data/data.pickle', 'rb') as f:\n",
    "    data = pickle.load(f)\n",
    "\n",
    "t = data['t']  # timestamps [s]\n",
    "\n",
    "x_init  = data['x_init'] # initial x position [m]\n",
    "y_init  = data['y_init'] # initial y position [m]\n",
    "th_init = data['th_init'] # initial theta position [rad]\n",
    "\n",
    "# input signal\n",
    "v  = data['v']  # translational velocity input [m/s]\n",
    "om = data['om']  # rotational velocity input [rad/s]\n",
    "\n",
    "# bearing and range measurements, LIDAR constants\n",
    "b = data['b']  # bearing to each landmarks center in the frame attached to the laser [rad]\n",
    "r = data['r']  # range measurements [m]\n",
    "l = data['l']  # x,y positions of landmarks [m]\n",
    "d = data['d']  # distance between robot center and laser rangefinder [m]"
   ]
  },
  {
   "cell_type": "markdown",
   "metadata": {},
   "source": [
    "Note that distance from the LIDAR frame to the robot center is provided and loaded as an array into the `d` variable.\n",
    "\n",
    "### Ground Truth\n",
    "If available, it is useful to plot the ground truth position and orientation before starting the assignment.\n",
    "\n",
    "<table><tr>\n",
    "<td> <img src=\"data/gtruth.png\" alt=\"Ground Truth\" width=\"350\"/> </td>\n",
    "<td> <img src=\"data/gtruth2.png\" alt=\"Ground Truth\" width=\"350\"/> </td>\n",
    "</tr></table>\n",
    "\n",
    "Notice that the orientation values are wrapped to the $\\left[-\\pi,\\pi\\right]$ range in radians."
   ]
  },
  {
   "cell_type": "markdown",
   "metadata": {},
   "source": [
    "### Initializing Parameters\n",
    "\n",
    "Now that our data is loaded, we can begin getting things set up for our solver. One of the\n",
    "most important aspects of designing a filter is determining the input and measurement noise covariance matrices, as well as the initial state and covariance values. We set the values here:"
   ]
  },
  {
   "cell_type": "code",
   "execution_count": 2,
   "metadata": {},
   "outputs": [],
   "source": [
    "v_var = 0.01  # translation velocity variance  \n",
    "om_var = 0.01  # rotational velocity variance \n",
    "r_var = 0.1  # range measurements variance\n",
    "b_var = 10   # bearing measurement variance\n",
    "\n",
    "Q_km = np.diag([v_var, om_var]) # input noise covariance \n",
    "cov_y = np.diag([r_var, b_var])  # measurement noise covariance \n",
    "\n",
    "x_est = np.zeros([len(v), 3])  # estimated states, x, y, and theta\n",
    "P_est = np.zeros([len(v), 3, 3])  # state covariance matrices\n",
    "\n",
    "x_est[0] = np.array([x_init, y_init, th_init]) # initial state\n",
    "P_est[0] = np.diag([1, 1, 0.1]) # initial state covariance"
   ]
  },
  {
   "cell_type": "code",
   "execution_count": 3,
   "metadata": {
    "scrolled": true
   },
   "outputs": [
    {
     "data": {
      "text/plain": [
       "(501, 3, 3)"
      ]
     },
     "execution_count": 3,
     "metadata": {},
     "output_type": "execute_result"
    }
   ],
   "source": [
    "P_est.shape\n"
   ]
  },
  {
   "cell_type": "code",
   "execution_count": 4,
   "metadata": {},
   "outputs": [
    {
     "data": {
      "text/plain": [
       "(501, 3)"
      ]
     },
     "execution_count": 4,
     "metadata": {},
     "output_type": "execute_result"
    }
   ],
   "source": [
    "x_est.shape"
   ]
  },
  {
   "cell_type": "code",
   "execution_count": 5,
   "metadata": {},
   "outputs": [
    {
     "data": {
      "text/plain": [
       "array([50.        ,  0.        ,  1.57079633])"
      ]
     },
     "execution_count": 5,
     "metadata": {},
     "output_type": "execute_result"
    }
   ],
   "source": [
    "x_est[0]"
   ]
  },
  {
   "cell_type": "code",
   "execution_count": 6,
   "metadata": {
    "scrolled": true
   },
   "outputs": [
    {
     "data": {
      "text/plain": [
       "array([[1. , 0. , 0. ],\n",
       "       [0. , 1. , 0. ],\n",
       "       [0. , 0. , 0.1]])"
      ]
     },
     "execution_count": 6,
     "metadata": {},
     "output_type": "execute_result"
    }
   ],
   "source": [
    "P_est[0]"
   ]
  },
  {
   "cell_type": "code",
   "execution_count": 7,
   "metadata": {},
   "outputs": [
    {
     "data": {
      "text/plain": [
       "(2, 2)"
      ]
     },
     "execution_count": 7,
     "metadata": {},
     "output_type": "execute_result"
    }
   ],
   "source": [
    "Q_km.shape"
   ]
  },
  {
   "cell_type": "code",
   "execution_count": 8,
   "metadata": {},
   "outputs": [
    {
     "data": {
      "text/plain": [
       "(2, 2)"
      ]
     },
     "execution_count": 8,
     "metadata": {},
     "output_type": "execute_result"
    }
   ],
   "source": [
    "cov_y.shape"
   ]
  },
  {
   "cell_type": "code",
   "execution_count": 9,
   "metadata": {},
   "outputs": [
    {
     "data": {
      "text/plain": [
       "(501,)"
      ]
     },
     "execution_count": 9,
     "metadata": {},
     "output_type": "execute_result"
    }
   ],
   "source": [
    "v.shape"
   ]
  },
  {
   "cell_type": "code",
   "execution_count": 10,
   "metadata": {},
   "outputs": [
    {
     "data": {
      "text/plain": [
       "(501,)"
      ]
     },
     "execution_count": 10,
     "metadata": {},
     "output_type": "execute_result"
    }
   ],
   "source": [
    "om.shape"
   ]
  },
  {
   "cell_type": "code",
   "execution_count": 11,
   "metadata": {},
   "outputs": [
    {
     "data": {
      "text/plain": [
       "(501,)"
      ]
     },
     "execution_count": 11,
     "metadata": {},
     "output_type": "execute_result"
    }
   ],
   "source": [
    "t.shape"
   ]
  },
  {
   "cell_type": "code",
   "execution_count": 12,
   "metadata": {},
   "outputs": [
    {
     "data": {
      "text/plain": [
       "(501, 8)"
      ]
     },
     "execution_count": 12,
     "metadata": {},
     "output_type": "execute_result"
    }
   ],
   "source": [
    "b.shape"
   ]
  },
  {
   "cell_type": "code",
   "execution_count": 13,
   "metadata": {},
   "outputs": [
    {
     "data": {
      "text/plain": [
       "-20"
      ]
     },
     "execution_count": 13,
     "metadata": {},
     "output_type": "execute_result"
    }
   ],
   "source": [
    "l[1][0]"
   ]
  },
  {
   "cell_type": "code",
   "execution_count": 14,
   "metadata": {},
   "outputs": [
    {
     "data": {
      "text/plain": [
       "array([0., 0., 0.])"
      ]
     },
     "execution_count": 14,
     "metadata": {},
     "output_type": "execute_result"
    }
   ],
   "source": [
    "x_est[1]"
   ]
  },
  {
   "cell_type": "markdown",
   "metadata": {},
   "source": [
    "**Remember:** that it is neccessary to tune the measurement noise variances `r_var`, `b_var` in order for the filter to perform well!\n",
    "\n",
    "In order for the orientation estimates to coincide with the bearing measurements, it is also neccessary to wrap all estimated $\\theta$ values to the $(-\\pi , \\pi]$ range."
   ]
  },
  {
   "cell_type": "code",
   "execution_count": 15,
   "metadata": {},
   "outputs": [],
   "source": [
    "# Wraps angle to (-pi,pi] range\n",
    "def wraptopi(x):\n",
    "    if x > np.pi:\n",
    "        x = x - (np.floor(x / (2 * np.pi)) + 1) * 2 * np.pi\n",
    "    elif x < -np.pi:\n",
    "        x = x + (np.floor(x / (-2 * np.pi)) + 1) * 2 * np.pi\n",
    "    return np.array(x)"
   ]
  },
  {
   "cell_type": "markdown",
   "metadata": {},
   "source": [
    "\n",
    "## Correction Step\n",
    "-----\n",
    "First, let's implement the measurement update function, which takes an available landmark measurement $l$ and updates the current state estimate $\\mathbf{\\check{x}}_k$.\n",
    "For each landmark measurement received at a given timestep $k$, you should implement the following steps:\n",
    "\n",
    "- Compute the measurement model Jacobians at $\\mathbf{\\check{x}}_{k}$\n",
    "\\begin{align}\n",
    "\\mathbf{y}^l_k = &\\mathbf{h}(\\mathbf{x}_{k}, \\mathbf{n}^l_k) \\\\\\\\\n",
    "\\mathbf{H}_{k} = \\frac{\\partial \\mathbf{h}}{\\partial \\mathbf{x}_{k}}\\bigg|_{\\mathbf{\\check{x}}_{k},0}& \\, , \\, \\, \\, \\,\n",
    "\\mathbf{M}_{k} = \\frac{\\partial \\mathbf{h}}{\\partial \\mathbf{n}_{k}}\\bigg|_{\\mathbf{\\check{x}}_{k},0} \\, .\n",
    "\\end{align}\n",
    "- Compute the Kalman Gain\n",
    "\\begin{align}\n",
    "\\mathbf{K}_k &= \\mathbf{\\check{P}}_k \\mathbf{H}_k^T \\left(\\mathbf{H}_k \\mathbf{\\check{P}}_k \\mathbf{H}_k^T + \\mathbf{M}_k \\mathbf{R}_k \\mathbf{M}_k^T \\right)^{-1} \n",
    "\\end{align}\n",
    "- Correct the predicted state\n",
    "\\begin{align}\n",
    "\\mathbf{\\check{y}}^l_k &= \\mathbf{h}\\left(\\mathbf{\\check{x}}_k, \\mathbf{0}\\right) \\\\\n",
    "\\mathbf{\\hat{x}}_k &= \\mathbf{\\check{x}}_k + \\mathbf{K}_k \\left(\\mathbf{y}^l_k - \\mathbf{\\check{y}}^l_k\\right)\n",
    "\\end{align}\n",
    "- Correct the covariance\n",
    "\\begin{align}\n",
    "\\mathbf{\\hat{P}}_k &= \\left(\\mathbf{I} - \\mathbf{K}_k \\mathbf{H}_k \\right)\\mathbf{\\check{P}}_k\n",
    "\\end{align}"
   ]
  },
  {
   "cell_type": "code",
   "execution_count": 16,
   "metadata": {},
   "outputs": [],
   "source": [
    "def measurement_update(lk, rk, bk, P_check, x_chec):\n",
    "#     from math import atan2\n",
    "\n",
    "    x_k = x_chec[0]\n",
    "    y_k = x_chec[1]\n",
    "    theta_k = wraptopi(x_chec[2,0])  # to get numerical value of theta_k\n",
    "\n",
    "#     print(theta_k)\n",
    "    bk = wraptopi(bk)\n",
    "    x_l = lk[0]\n",
    "    y_l = lk[1]\n",
    "    \n",
    "    doe_x = - x_l + x_k  + d*np.cos(theta_k)\n",
    "    doe_y = - y_l + y_k + d*np.sin(theta_k)\n",
    "#     print(d.shape)\n",
    "    r1 = np.sqrt(doe_x**2 + doe_y**2)\n",
    "    b1 = np.arctan2(doe_y, doe_x) - theta_k\n",
    "    b1 = wraptopi(b1)\n",
    "    r1 = r1[0]\n",
    "    b1 = b1[0]\n",
    "    rs = r1**2\n",
    "    \n",
    "    y = np.array([[rk],[bk]])\n",
    "    y_e = np.array([[r1],[b1]])\n",
    "\n",
    "    M_k = np.identity(2)\n",
    "    # 1. Compute measurement Jacobian\n",
    "    H_k = np.zeros((2,3))\n",
    "    H_k = np.array([[doe_x/r1 , doe_y/r1 , d*(-doe_x*np.sin(theta_k) + doe_y*np.cos(theta_k))/r1 ],\n",
    "                    [-doe_y/rs, doe_x/rs , -1 - d*(-doe_y*np.sin(theta_k) - doe_x*np.cos(theta_k))/rs]])\n",
    "    H_k = H_k.reshape(2,3)\n",
    "    \n",
    "    # 2. Compute Kalman Gain\n",
    "    R_k = cov_y\n",
    "    K_k = P_check @ (H_k.T) @ (np.linalg.inv(H_k @ (P_check) @ (H_k.T) + M_k @ (R_k) @ (M_k.T)))\n",
    "\n",
    "    # 3. Correct predicted state (remember to wrap the angles to [-pi,pi])\n",
    "    \n",
    "    y_sub = y - y_e\n",
    "\n",
    "    x_chec = x_chec + K_k @(y_sub)\n",
    "\n",
    "    x_chec[2] = wraptopi(x_chec[2])\n",
    "    \n",
    "    \n",
    "    # 4. Correct covariance\n",
    "    P_check = (np.identity(3) - K_k @ (H_k)) @ (P_check)\n",
    "    \n",
    "    return x_chec, P_check\n",
    "    "
   ]
  },
  {
   "cell_type": "markdown",
   "metadata": {},
   "source": [
    "## Prediction Step\n",
    "-----\n",
    "Now, implement the main filter loop, defining the prediction step of the EKF using the motion model provided:\n",
    "\n",
    "\\begin{align}\n",
    "\\mathbf{\\check{x}}_k &= \\mathbf{f}\\left(\\mathbf{\\hat{x}}_{k-1}, \\mathbf{u}_{k-1}, \\mathbf{0} \\right) \\\\\n",
    "\\mathbf{\\check{P}}_k &= \\mathbf{F}_{k-1}\\mathbf{\\hat{P}}_{k-1}\\mathbf{F}_{k-1}^T + \\mathbf{L}_{k-1}\\mathbf{Q}_{k-1}\\mathbf{L}_{k-1}^T \\, .\n",
    "\\end{align}\n",
    "\n",
    "Where\n",
    "\n",
    "\\begin{align}\n",
    "\\mathbf{F}_{k-1} = \\frac{\\partial \\mathbf{f}}{\\partial \\mathbf{x}_{k-1}}\\bigg|_{\\mathbf{\\hat{x}}_{k-1},\\mathbf{u}_{k},0}  \\, , \\, \\, \\, \\,\n",
    "\\mathbf{L}_{k-1} = \\frac{\\partial \\mathbf{f}}{\\partial \\mathbf{w}_{k}}\\bigg|_{\\mathbf{\\hat{x}}_{k-1},\\mathbf{u}_{k},0} \\, .\n",
    "\\end{align}"
   ]
  },
  {
   "cell_type": "code",
   "execution_count": 20,
   "metadata": {
    "scrolled": true
   },
   "outputs": [
    {
     "name": "stdout",
     "output_type": "stream",
     "text": [
      "[1.69990024]\n",
      "[1.57849777]\n",
      "[1.59811787]\n",
      "[1.82330418]\n",
      "[2.00524598]\n",
      "[1.90442965]\n",
      "[1.76572337]\n",
      "[1.81032032]\n",
      "[1.78711624]\n",
      "[1.91631658]\n",
      "[1.94210808]\n",
      "[1.89400793]\n",
      "[1.82986164]\n",
      "[1.83881263]\n",
      "[1.90369111]\n",
      "[1.73728051]\n",
      "[1.69844512]\n",
      "[1.65046982]\n",
      "[1.75136429]\n",
      "[1.69571025]\n",
      "[1.76527692]\n",
      "[1.68142487]\n",
      "[1.85992373]\n",
      "[1.77539999]\n",
      "[1.68781055]\n",
      "[1.59375167]\n",
      "[1.8398789]\n",
      "[1.84154059]\n",
      "[1.99700361]\n",
      "[2.16603013]\n",
      "[2.15452923]\n",
      "[2.07918049]\n",
      "[1.97196327]\n",
      "[1.9863653]\n",
      "[1.79136842]\n",
      "[1.84189049]\n",
      "[1.98736836]\n",
      "[2.01173236]\n",
      "[2.11163314]\n",
      "[2.16922234]\n",
      "[2.25979478]\n",
      "[2.35633716]\n",
      "[2.41705361]\n",
      "[2.44156127]\n",
      "[2.38596079]\n",
      "[2.44594402]\n",
      "[2.30799958]\n",
      "[2.34345158]\n",
      "[2.54736709]\n",
      "[2.52670984]\n",
      "[2.53972123]\n",
      "[2.69981363]\n",
      "[2.70042926]\n",
      "[2.56396819]\n",
      "[2.42946772]\n",
      "[2.5010288]\n",
      "[2.50476382]\n",
      "[2.45960005]\n",
      "[2.50933018]\n",
      "[2.69002621]\n",
      "[2.94153069]\n",
      "[3.03766729]\n",
      "[-3.04189188]\n",
      "[-2.96135055]\n",
      "[-3.05519683]\n",
      "[-3.13808613]\n",
      "[-3.05999521]\n",
      "[-3.04494888]\n",
      "[-2.90351068]\n",
      "[-2.91269774]\n",
      "[-3.00122937]\n",
      "[-3.09207358]\n",
      "[-3.06899657]\n",
      "[-2.94998585]\n",
      "[-2.8038798]\n",
      "[-2.87868971]\n",
      "[-2.84363549]\n",
      "[-2.72709076]\n",
      "[-2.75524305]\n",
      "[-2.68341668]\n",
      "[-2.70241975]\n",
      "[-2.67543948]\n",
      "[-2.77713051]\n",
      "[-2.91081455]\n",
      "[-2.99317579]\n",
      "[-3.0449936]\n",
      "[-2.93417059]\n",
      "[-2.6632359]\n",
      "[-2.59707225]\n",
      "[-2.64701386]\n",
      "[-2.66639828]\n",
      "[-2.61295195]\n",
      "[-2.53185623]\n",
      "[-2.38205147]\n",
      "[-2.17524549]\n",
      "[-2.0410751]\n",
      "[-2.1203875]\n",
      "[-2.08764429]\n",
      "[-2.22499474]\n",
      "[-2.36842897]\n",
      "[-2.41805832]\n",
      "[-2.47276654]\n",
      "[-2.52087245]\n",
      "[-2.63294461]\n",
      "[-2.55992528]\n",
      "[-2.57033353]\n",
      "[-2.41229781]\n",
      "[-2.35535738]\n",
      "[-2.27057658]\n",
      "[-2.35219735]\n",
      "[-2.35149269]\n",
      "[-2.41542551]\n",
      "[-2.29204235]\n",
      "[-2.25124063]\n",
      "[-2.24431579]\n",
      "[-2.26469442]\n",
      "[-2.21679827]\n",
      "[-2.33319687]\n",
      "[-2.41175954]\n",
      "[-2.45906178]\n",
      "[-2.38126082]\n",
      "[-2.1938795]\n",
      "[-2.2803365]\n",
      "[-2.47354676]\n",
      "[-2.36975355]\n",
      "[-2.35175948]\n",
      "[-2.4933379]\n",
      "[-2.55232244]\n",
      "[-2.49950518]\n",
      "[-2.38256848]\n",
      "[-2.39260141]\n",
      "[-2.43834263]\n",
      "[-2.37061091]\n",
      "[-2.44955067]\n",
      "[-2.30833415]\n",
      "[-2.42723446]\n",
      "[-2.31061346]\n",
      "[-2.36507921]\n",
      "[-2.58377697]\n",
      "[-2.67343932]\n",
      "[-2.55823805]\n",
      "[-2.38747905]\n",
      "[-2.15549113]\n",
      "[-2.16548052]\n",
      "[-2.14601719]\n",
      "[-2.19946716]\n",
      "[-2.27299166]\n",
      "[-2.42475386]\n",
      "[-2.4313537]\n",
      "[-2.30578723]\n",
      "[-2.30744037]\n",
      "[-2.390103]\n",
      "[-2.32471962]\n",
      "[-2.41148132]\n",
      "[-2.56059193]\n",
      "[-2.52505092]\n",
      "[-2.65958812]\n",
      "[-2.65556031]\n",
      "[-2.68879068]\n",
      "[-2.69415573]\n",
      "[-2.68295341]\n",
      "[-2.44788272]\n",
      "[-2.53959168]\n",
      "[-2.70849292]\n",
      "[-2.72012893]\n",
      "[-2.60700186]\n",
      "[-2.62765844]\n",
      "[-2.60989472]\n",
      "[-2.55723334]\n",
      "[-2.64319116]\n",
      "[-2.70708617]\n",
      "[-2.70252203]\n",
      "[-2.88636563]\n",
      "[-2.83770519]\n",
      "[-2.86179162]\n",
      "[-2.83871593]\n",
      "[-2.87777745]\n",
      "[-2.92896567]\n",
      "[-2.67477325]\n",
      "[-2.63772468]\n",
      "[-2.80421601]\n",
      "[-2.83685759]\n",
      "[-2.85433624]\n",
      "[-3.00453206]\n",
      "[-3.0478428]\n",
      "[3.04409947]\n",
      "[3.00847259]\n",
      "[3.0021485]\n",
      "[3.00234328]\n",
      "[3.02498156]\n",
      "[3.08249684]\n",
      "[2.99844507]\n",
      "[3.02624859]\n",
      "[3.11065543]\n",
      "[3.12570889]\n",
      "[2.97866415]\n",
      "[2.80712477]\n",
      "[2.96280945]\n",
      "[2.94390762]\n",
      "[2.87225067]\n",
      "[2.8003796]\n",
      "[2.90646326]\n",
      "[2.79085545]\n",
      "[2.74818809]\n",
      "[2.6500649]\n",
      "[2.63037476]\n",
      "[2.61337187]\n",
      "[2.60398126]\n",
      "[2.57039748]\n",
      "[2.52565889]\n",
      "[2.29552487]\n",
      "[2.34869864]\n",
      "[2.33767597]\n",
      "[2.19217763]\n",
      "[2.18063599]\n",
      "[2.23334468]\n",
      "[2.22290683]\n",
      "[2.17088936]\n",
      "[2.19778045]\n",
      "[2.26097017]\n",
      "[2.29823952]\n",
      "[2.14137737]\n",
      "[2.09841327]\n",
      "[2.01745264]\n",
      "[1.79625445]\n",
      "[1.61800298]\n",
      "[1.79812926]\n",
      "[1.91291181]\n",
      "[1.9975545]\n",
      "[2.05902274]\n",
      "[2.06096346]\n",
      "[1.87969728]\n",
      "[1.83710602]\n",
      "[1.89341291]\n",
      "[1.87281152]\n",
      "[1.81926285]\n",
      "[1.75353232]\n",
      "[1.80314392]\n",
      "[1.83483558]\n",
      "[1.69756855]\n",
      "[1.75593704]\n",
      "[1.72481972]\n",
      "[1.74066097]\n",
      "[1.7030909]\n",
      "[1.61589792]\n",
      "[1.54715242]\n",
      "[1.69203107]\n",
      "[1.81098376]\n",
      "[1.77453239]\n",
      "[1.62843284]\n",
      "[1.45193386]\n",
      "[1.35808663]\n",
      "[1.4323855]\n",
      "[1.56969457]\n",
      "[1.48483047]\n",
      "[1.52845949]\n",
      "[1.46733512]\n",
      "[1.56342004]\n",
      "[1.55381387]\n",
      "[1.5740219]\n",
      "[1.2891966]\n",
      "[1.41509853]\n",
      "[1.53183856]\n",
      "[1.57986303]\n",
      "[1.47555224]\n",
      "[1.46496281]\n",
      "[1.35261484]\n",
      "[1.4226109]\n",
      "[1.39633437]\n",
      "[1.37487776]\n",
      "[1.50039056]\n",
      "[1.51136982]\n",
      "[1.51097331]\n",
      "[1.52408511]\n",
      "[1.59155693]\n",
      "[1.38980189]\n",
      "[1.27927933]\n",
      "[1.2053763]\n",
      "[1.10262679]\n",
      "[1.05586293]\n",
      "[1.23564687]\n",
      "[1.24489529]\n",
      "[1.07413214]\n",
      "[1.01478563]\n",
      "[0.81859211]\n",
      "[0.77477398]\n",
      "[0.91374628]\n",
      "[1.02715569]\n",
      "[1.0703341]\n",
      "[1.19306403]\n",
      "[1.10759758]\n",
      "[0.95670813]\n",
      "[0.93277399]\n",
      "[0.79866069]\n",
      "[0.73644949]\n",
      "[0.67813107]\n",
      "[0.83966448]\n",
      "[0.82885437]\n",
      "[0.65534717]\n",
      "[0.64011222]\n",
      "[0.66377248]\n",
      "[0.49868772]\n",
      "[0.49236342]\n",
      "[0.34755413]\n",
      "[0.23054463]\n",
      "[0.09752101]\n",
      "[0.06697593]\n",
      "[0.19946774]\n",
      "[0.28240235]\n",
      "[0.1178633]\n",
      "[0.08316706]\n",
      "[0.13416284]\n",
      "[-0.00555534]\n",
      "[-0.1594115]\n",
      "[-0.03203036]\n",
      "[-0.15891332]\n",
      "[-0.09909555]\n",
      "[-0.2052316]\n",
      "[-0.27767745]\n",
      "[-0.24873096]\n",
      "[-0.31834054]\n",
      "[-0.19382841]\n",
      "[-0.24708258]\n",
      "[-0.15811808]\n",
      "[-0.31084349]\n",
      "[-0.34212361]\n",
      "[-0.56546686]\n",
      "[-0.72995248]\n",
      "[-0.83702684]\n",
      "[-0.72497128]\n",
      "[-0.67355516]\n",
      "[-0.71576736]\n",
      "[-0.62803779]\n",
      "[-0.49639061]\n",
      "[-0.52558129]\n",
      "[-0.53939575]\n",
      "[-0.5992646]\n",
      "[-0.59216314]\n",
      "[-0.53986759]\n",
      "[-0.54288322]\n",
      "[-0.50743886]\n",
      "[-0.50680789]\n",
      "[-0.55713759]\n",
      "[-0.54228338]\n",
      "[-0.57538443]\n",
      "[-0.68383799]\n",
      "[-0.6321609]\n",
      "[-0.69177985]\n",
      "[-0.62287775]\n",
      "[-0.68394703]\n",
      "[-0.61211176]\n",
      "[-0.62854694]\n",
      "[-0.73215672]\n",
      "[-0.76985137]\n",
      "[-0.78731088]\n",
      "[-0.69596721]\n",
      "[-0.7019364]\n",
      "[-0.93596559]\n",
      "[-0.78057679]\n",
      "[-0.86427335]\n",
      "[-0.83024055]\n",
      "[-0.76926726]\n",
      "[-0.69008883]\n",
      "[-0.70713295]\n",
      "[-0.77510371]\n",
      "[-0.60704677]\n",
      "[-0.50862751]\n",
      "[-0.53344812]\n",
      "[-0.69177098]\n",
      "[-0.65586306]\n",
      "[-0.5708517]\n",
      "[-0.56038221]\n",
      "[-0.71016594]\n",
      "[-0.75667545]\n",
      "[-0.76948402]\n",
      "[-0.93593838]\n",
      "[-0.95004844]\n",
      "[-0.85286021]\n",
      "[-0.80828702]\n",
      "[-0.71125919]\n",
      "[-0.6406304]\n",
      "[-0.66130051]\n",
      "[-0.78813124]\n",
      "[-0.767079]\n",
      "[-0.8400599]\n",
      "[-0.86544222]\n",
      "[-0.7677355]\n",
      "[-0.8984421]\n",
      "[-0.87637255]\n",
      "[-0.85121919]\n",
      "[-0.87160854]\n",
      "[-0.76306254]\n",
      "[-0.71346074]\n",
      "[-0.63214859]\n",
      "[-0.4939322]\n",
      "[-0.62240723]\n",
      "[-0.7262255]\n",
      "[-0.85350328]\n",
      "[-0.82479784]\n",
      "[-0.68343238]\n",
      "[-0.56970429]\n",
      "[-0.47614448]\n",
      "[-0.42885592]\n",
      "[-0.63118396]\n",
      "[-0.64626336]\n",
      "[-0.68057035]\n",
      "[-0.71975961]\n",
      "[-0.71817579]\n",
      "[-0.5560246]\n",
      "[-0.66365036]\n",
      "[-0.64040206]\n",
      "[-0.7286911]\n",
      "[-0.59837952]\n",
      "[-0.57993074]\n",
      "[-0.58275606]\n",
      "[-0.71834212]\n",
      "[-0.73620684]\n",
      "[-0.67887287]\n",
      "[-0.69075959]\n",
      "[-0.47353859]\n",
      "[-0.52470701]\n",
      "[-0.52372445]\n",
      "[-0.40946271]\n",
      "[-0.42777432]\n",
      "[-0.51282399]\n",
      "[-0.41569632]\n",
      "[-0.30254625]\n",
      "[-0.30060163]\n",
      "[-0.23469631]\n",
      "[-0.2902712]\n",
      "[-0.19356888]\n",
      "[-0.27431208]\n",
      "[-0.18938071]\n",
      "[-0.25800537]\n",
      "[-0.25506267]\n",
      "[-0.25757433]\n",
      "[-0.156509]\n",
      "[-0.03880713]\n",
      "[-0.02997399]\n",
      "[-0.08569828]\n",
      "[0.05536498]\n",
      "[0.17276134]\n",
      "[0.35110918]\n",
      "[0.24627259]\n",
      "[0.23545785]\n",
      "[0.26585314]\n",
      "[0.23254993]\n",
      "[0.37479424]\n",
      "[0.47332099]\n",
      "[0.46649957]\n",
      "[0.46128249]\n",
      "[0.51151769]\n",
      "[0.30242167]\n",
      "[0.55122732]\n",
      "[0.64516079]\n",
      "[0.71482003]\n",
      "[0.64866495]\n",
      "[0.75089665]\n",
      "[0.81925769]\n",
      "[0.93956751]\n",
      "[1.02391047]\n",
      "[0.99430158]\n",
      "[1.03107288]\n",
      "[0.96789635]\n",
      "[0.99801817]\n",
      "[0.97209353]\n",
      "[0.89529763]\n",
      "[0.90851971]\n",
      "[0.85858873]\n",
      "[0.81945852]\n",
      "[0.93132322]\n",
      "[0.78496327]\n",
      "[0.84263219]\n",
      "[0.89395274]\n",
      "[0.92899967]\n",
      "[0.91061717]\n",
      "[1.08405459]\n",
      "[1.22418309]\n",
      "[1.11655075]\n",
      "[1.25194377]\n",
      "[1.2831792]\n",
      "[1.31999984]\n",
      "[1.22574996]\n",
      "[1.2857174]\n",
      "[1.60746877]\n",
      "[1.54640193]\n",
      "[1.40453681]\n",
      "[1.51826055]\n",
      "[1.43709291]\n",
      "[1.54505995]\n",
      "[1.38909798]\n",
      "[1.36252202]\n",
      "[1.37381623]\n",
      "[1.40144667]\n",
      "[1.36478999]\n",
      "[1.46857984]\n",
      "[1.47766933]\n",
      "[1.47079778]\n",
      "[1.56452306]\n",
      "[1.54876665]\n"
     ]
    }
   ],
   "source": [
    "#### 5. Main Filter Loop #######################################################################\n",
    "\n",
    "for k in range(1, len(t)):  # start at 1 because we've set the initial prediciton\n",
    "    \n",
    "    delta_t = t[k] - t[k - 1]  # time step (difference between timestamps)\n",
    "    T = delta_t\n",
    "    \n",
    "    x_check = x_est[k-1]\n",
    "   \n",
    "    x_check = x_check.reshape(3,1) #as per the equations we will need 3x1 matric\n",
    "    \n",
    "    \n",
    "    P_check = P_est[k-1]\n",
    "    \n",
    "    theta_minus_1 = wraptopi(x_check[2])\n",
    "    \n",
    "    # 1. Update state with odometry readings (remember to wrap the angles to [-pi,pi])\n",
    "    \n",
    "    A_t_minus_1 = np.identity(3)\n",
    "    \n",
    "    B = np.array([[np.cos(theta_minus_1), 0],\n",
    "                   [np.sin(theta_minus_1), 0],\n",
    "                   [            0, T]], dtype= float)\n",
    "    control_vel_t_minus_1 = np.array([[v[k-1]], [om[k-1]]])\n",
    "\n",
    "    x_check = A_t_minus_1 @ (x_check) + B @ (control_vel_t_minus_1)\n",
    "    \n",
    "    x_check[2] = wraptopi(x_check[2])\n",
    "    \n",
    "    # 2. Motion model jacobian with respect to last state\n",
    "    F_km = np.zeros([3, 3]) \n",
    "    F_km = np.array([[1, 0, -np.sin(theta_minus_1)*T*v[k]],\n",
    "                     [0, 1,  np.cos(theta_minus_1)*T*v[k]],\n",
    "                     [0, 0, 1]], dtype = float)\n",
    "    \n",
    "\n",
    "    # 3. Motion model jacobian with respect to noise\n",
    "    L_km = np.zeros((3, 2))\n",
    "    L_km = np.array([[T*np.cos(theta_minus_1), 0],\n",
    "                     [T*np.sin(theta_minus_1), 0],\n",
    "                     [0, T]], dtype = float)\n",
    "    \n",
    "    # 4. Propagate uncertainty\n",
    "    P_check = F_km @ (P_check) @ (F_km.T) + L_km @ (Q_km) @ (L_km.T)\n",
    "    \n",
    "    # 5. Update state estimate using available landmark measurements\n",
    "    x_check[2] = wraptopi(x_check[2])\n",
    "    for i in range(len(r[k])):\n",
    "        x_check, P_check = measurement_update(l[i], r[k, i], b[k, i], P_check, x_check)\n",
    "\n",
    "    # Set final state predictions for timestep\n",
    "    x_est[k, 0] = x_check[0]\n",
    "    x_est[k, 1] = x_check[1]\n",
    "    x_est[k, 2] = x_check[2]\n",
    "    P_est[k, :, :] = P_check"
   ]
  },
  {
   "cell_type": "markdown",
   "metadata": {},
   "source": [
    "Let's plot the resulting state estimates:"
   ]
  },
  {
   "cell_type": "code",
   "execution_count": 18,
   "metadata": {},
   "outputs": [
    {
     "data": {
      "image/png": "[encoded data removed]",
      "text/plain": [
       "<Figure size 432x288 with 1 Axes>"
      ]
     },
     "metadata": {
      "needs_background": "light"
     },
     "output_type": "display_data"
    },
    {
     "data": {
      "image/png": "[encoded data removed]",
      "text/plain": [
       "<Figure size 432x288 with 1 Axes>"
      ]
     },
     "metadata": {
      "needs_background": "light"
     },
     "output_type": "display_data"
    }
   ],
   "source": [
    "e_fig = plt.figure()\n",
    "ax = e_fig.add_subplot(111)\n",
    "ax.plot(x_est[:, 0], x_est[:, 1])\n",
    "ax.set_xlabel('x [m]')\n",
    "ax.set_ylabel('y [m]')\n",
    "ax.set_title('Estimated trajectory')\n",
    "plt.show()\n",
    "\n",
    "e_fig = plt.figure()\n",
    "ax = e_fig.add_subplot(111)\n",
    "ax.plot(t[:], x_est[:, 2])\n",
    "ax.set_xlabel('Time [s]')\n",
    "ax.set_ylabel('theta [rad]')\n",
    "ax.set_title('Estimated trajectory')\n",
    "plt.show()"
   ]
  },
  {
   "cell_type": "markdown",
   "metadata": {},
   "source": [
    "Are you satisfied wth your results? The resulting trajectory should closely resemble the ground truth, with minor \"jumps\" in the orientation estimate due to angle wrapping. If this is the case, run the code below to produce your solution file."
   ]
  },
  {
   "cell_type": "code",
   "execution_count": 19,
   "metadata": {},
   "outputs": [],
   "source": [
    "with open('submission.pkl', 'wb') as f:\n",
    "    pickle.dump(x_est, f, pickle.HIGHEST_PROTOCOL)"
   ]
  }
 ],
 "metadata": {
  "kernelspec": {
   "display_name": "Python 3",
   "language": "python",
   "name": "python3"
  },
  "language_info": {
   "codemirror_mode": {
    "name": "ipython",
    "version": 3
   },
   "file_extension": ".py",
   "mimetype": "text/x-python",
   "name": "python",
   "nbconvert_exporter": "python",
   "pygments_lexer": "ipython3",
   "version": "3.7.1"
  }
 },
 "nbformat": 4,
 "nbformat_minor": 1
}
